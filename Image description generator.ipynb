{
 "cells": [
  {
   "cell_type": "markdown",
   "id": "4c045ae8",
   "metadata": {
    "notebookRunGroups": {
     "groupValue": "2"
    }
   },
   "source": [
    "# This code is used to create image description for those images which contains text. (Eg: educational realted images, flow charts, etc.)\n",
    "---"
   ]
  },
  {
   "cell_type": "code",
   "execution_count": 7,
   "id": "2b04d183",
   "metadata": {},
   "outputs": [],
   "source": [
    "import easyocr"
   ]
  },
  {
   "cell_type": "code",
   "execution_count": 8,
   "id": "79ec49fa",
   "metadata": {},
   "outputs": [
    {
     "name": "stderr",
     "output_type": "stream",
     "text": [
      "Neither CUDA nor MPS are available - defaulting to CPU. Note: This module is much faster with a GPU.\n"
     ]
    }
   ],
   "source": [
    "path = \"E:/Email spam detection image architecture.jpg\"\n",
    "\n",
    "lang = input(\"Enter the language code (e.g., 'en' for English, 'hi' for Hindi): \")\n",
    "reader = easyocr.Reader([lang])  # You can add other languages like ['en', 'hi']"
   ]
  },
  {
   "cell_type": "code",
   "execution_count": 9,
   "id": "cdd8fdca",
   "metadata": {},
   "outputs": [
    {
     "name": "stderr",
     "output_type": "stream",
     "text": [
      "c:\\Users\\madda\\AppData\\Local\\Programs\\Python\\Python312\\Lib\\site-packages\\torch\\utils\\data\\dataloader.py:665: UserWarning: 'pin_memory' argument is set as true but no accelerator is found, then device pinned memory won't be used.\n",
      "  warnings.warn(warn_msg)\n"
     ]
    }
   ],
   "source": [
    "results = reader.readtext(path, detail=0)"
   ]
  },
  {
   "cell_type": "code",
   "execution_count": 10,
   "id": "4e14b54b",
   "metadata": {},
   "outputs": [
    {
     "data": {
      "text/plain": [
       "['Incoming Email',\n",
       " 'Email Corpus',\n",
       " 'Preprocessing',\n",
       " 'Feature',\n",
       " 'Extraction',\n",
       " 'Generation of',\n",
       " 'Feature',\n",
       " 'Training Phase',\n",
       " 'Extraction',\n",
       " 'Rough Set',\n",
       " 'Rules',\n",
       " 'Machine',\n",
       " 'Learning Model',\n",
       " 'Rough Set',\n",
       " 'Updated Rough',\n",
       " 'Classifier',\n",
       " 'Set Rules',\n",
       " 'Classification',\n",
       " 'Result',\n",
       " 'Spam',\n",
       " 'Non-Spam']"
      ]
     },
     "execution_count": 10,
     "metadata": {},
     "output_type": "execute_result"
    }
   ],
   "source": [
    "results"
   ]
  },
  {
   "cell_type": "code",
   "execution_count": 11,
   "id": "26c894ff",
   "metadata": {},
   "outputs": [],
   "source": [
    "from langchain_community.llms import ollama\n",
    "\n",
    "llm = ollama.Ollama(model=\"llama3.2\")"
   ]
  },
  {
   "cell_type": "code",
   "execution_count": 12,
   "id": "dc3223e4",
   "metadata": {},
   "outputs": [
    {
     "data": {
      "text/plain": [
       "'The image depicts a digital workspace with a focus on artificial intelligence and machine learning, specifically in the realm of email classification. A preprocessing pipeline is illustrated, involving feature extraction and generation for model training. A machine learning model is shown to be trained on rough set theory and updated rough classifier rules to classify emails as spam or non-spam. The overall objective appears to be developing a system to filter out unwanted emails. The image suggests an environment where data scientists are working on predictive analytics and data-driven insights.'"
      ]
     },
     "execution_count": 12,
     "metadata": {},
     "output_type": "execute_result"
    }
   ],
   "source": [
    "description = llm.invoke(f\"\"\"\n",
    "I am going to give you a list of text extracted from an image using easyocr. by keeping in mind, the inability of easyocr, create a full description of the image based on the text.\n",
    "also remember that, all the text collectively belongs to a similiar category. so create me a effective description of the image in 5 sentences. just give me description without any additional text.\n",
    "Here is the text extracted from the image:{results}\n",
    "\"\"\")\n",
    "description"
   ]
  },
  {
   "cell_type": "code",
   "execution_count": null,
   "id": "e3954b7f",
   "metadata": {},
   "outputs": [],
   "source": [
    "# import pyttsx3\n",
    "\n",
    "# engine = pyttsx3.init()\n",
    "# engine.say(description)\n",
    "# engine.runAndWait()"
   ]
  },
  {
   "cell_type": "code",
   "execution_count": null,
   "id": "9de571a7",
   "metadata": {},
   "outputs": [],
   "source": []
  }
 ],
 "metadata": {
  "kernelspec": {
   "display_name": "Python 3",
   "language": "python",
   "name": "python3"
  },
  "language_info": {
   "codemirror_mode": {
    "name": "ipython",
    "version": 3
   },
   "file_extension": ".py",
   "mimetype": "text/x-python",
   "name": "python",
   "nbconvert_exporter": "python",
   "pygments_lexer": "ipython3",
   "version": "3.12.10"
  }
 },
 "nbformat": 4,
 "nbformat_minor": 5
}
